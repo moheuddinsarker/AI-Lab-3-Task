{
  "nbformat": 4,
  "nbformat_minor": 0,
  "metadata": {
    "colab": {
      "name": "Lab Task-3.ipynb",
      "provenance": [],
      "collapsed_sections": [],
      "include_colab_link": true
    },
    "kernelspec": {
      "name": "python3",
      "display_name": "Python 3"
    }
  },
  "cells": [
    {
      "cell_type": "markdown",
      "metadata": {
        "id": "view-in-github",
        "colab_type": "text"
      },
      "source": [
        "<a href=\"https://colab.research.google.com/github/moheuddinsarker/AI-Lab-3-Task/blob/main/Lab_Task_3.ipynb\" target=\"_parent\"><img src=\"https://colab.research.google.com/assets/colab-badge.svg\" alt=\"Open In Colab\"/></a>"
      ]
    },
    {
      "cell_type": "code",
      "metadata": {
        "colab": {
          "base_uri": "https://localhost:8080/"
        },
        "id": "haIIKQVtenOK",
        "outputId": "d28faeb2-1f3e-469e-aaa8-3952c7e91e96"
      },
      "source": [
        "data = []\r\n",
        "choice = 'random'\r\n",
        "\r\n",
        "def line():\r\n",
        "    print('---------x---------')\r\n",
        "\r\n",
        "def show_menu():\r\n",
        "    line()\r\n",
        "    print('Course Registration')\r\n",
        "    line()\r\n",
        "    print('1. Register a Course')\r\n",
        "    print('2. Unenroll from a Course')\r\n",
        "    print('3. Course List')\r\n",
        "    print('4. Done')\r\n",
        "    line()\r\n",
        "    choice = input('Enter your Choice: ')\r\n",
        "    return choice\r\n",
        "\r\n",
        "while choice != '4':\r\n",
        "    choice = show_menu()\r\n",
        "    if choice == '1':\r\n",
        "        course = input('Enter Course Code:  ')\r\n",
        "        data.append(course)\r\n",
        "        print('Course', course, 'added')\r\n",
        "    elif choice == '2':\r\n",
        "        course = input('Enter the Course Code to Unenroll: ')\r\n",
        "        if course in data:\r\n",
        "            data.remove(course)\r\n",
        "            print('Unenroll Successfull!')\r\n",
        "        else:\r\n",
        "            print('Could not find the Course', course)\r\n",
        "    elif choice == '3':\r\n",
        "        print('List of Courses: ')\r\n",
        "        for course in data:\r\n",
        "            print(course)\r\n",
        "    elif choice == '4':\r\n",
        "        print('Registration Complete!')\r\n",
        "    else:\r\n",
        "        print('Wrong Choice! Try Again.')"
      ],
      "execution_count": null,
      "outputs": [
        {
          "output_type": "stream",
          "text": [
            "---------x---------\n",
            "Course Registration\n",
            "---------x---------\n",
            "1. Register a Course\n",
            "2. Unenroll from a Course\n",
            "3. Course List\n",
            "4. Done\n",
            "---------x---------\n",
            "Enter your Choice: 1\n",
            "Enter Course Code:  CSE412\n",
            "Course CSE412 added\n",
            "---------x---------\n",
            "Course Registration\n",
            "---------x---------\n",
            "1. Register a Course\n",
            "2. Unenroll from a Course\n",
            "3. Course List\n",
            "4. Done\n",
            "---------x---------\n",
            "Enter your Choice: 2\n",
            "Enter the Course Code to Unenroll: CSE412\n",
            "Unenroll Successfull!\n",
            "---------x---------\n",
            "Course Registration\n",
            "---------x---------\n",
            "1. Register a Course\n",
            "2. Unenroll from a Course\n",
            "3. Course List\n",
            "4. Done\n",
            "---------x---------\n",
            "Enter your Choice: 4\n",
            "Registration Complete!\n"
          ],
          "name": "stdout"
        }
      ]
    }
  ]
}